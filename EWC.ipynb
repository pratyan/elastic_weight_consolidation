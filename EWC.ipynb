{
  "nbformat": 4,
  "nbformat_minor": 0,
  "metadata": {
    "colab": {
      "name": "EWS_sir.ipynb",
      "provenance": []
    },
    "kernelspec": {
      "name": "python3",
      "display_name": "Python 3"
    },
    "language_info": {
      "name": "python"
    }
  },
  "cells": [
    {
      "cell_type": "code",
      "execution_count": null,
      "metadata": {
        "id": "FZvqofgUorWg"
      },
      "outputs": [],
      "source": [
        "import tensorflow as tf\n",
        "import numpy as np\n",
        "import matplotlib.pyplot as plt"
      ]
    },
    {
      "cell_type": "code",
      "source": [
        "(x_train,y_train), (x_test,y_test) = tf.keras.datasets.mnist.load_data()"
      ],
      "metadata": {
        "colab": {
          "base_uri": "https://localhost:8080/"
        },
        "id": "IiBCOE0pouou",
        "outputId": "c5f93188-a5a3-4ec3-89b1-f20e42a33a5c"
      },
      "execution_count": null,
      "outputs": [
        {
          "output_type": "stream",
          "name": "stdout",
          "text": [
            "Downloading data from https://storage.googleapis.com/tensorflow/tf-keras-datasets/mnist.npz\n",
            "11493376/11490434 [==============================] - 0s 0us/step\n",
            "11501568/11490434 [==============================] - 0s 0us/step\n"
          ]
        }
      ]
    },
    {
      "cell_type": "code",
      "source": [
        "cond=y_train==0\n",
        "taskA = {'data':x_train[cond], 'label':y_train[cond]}\n",
        "cond=y_train ==1\n",
        "taskB= {'data':x_train[cond],'label':y_train[cond]}\n",
        "cond=y_train==2\n",
        "taskC={'data':x_train[cond],'label':y_train[cond]}"
      ],
      "metadata": {
        "id": "iNlmIHhLo_4s"
      },
      "execution_count": null,
      "outputs": []
    },
    {
      "cell_type": "code",
      "source": [
        "def model():\n",
        "    l1=tf.keras.layers.Flatten(input_shape=(28,28))\n",
        "    l2=tf.keras.layers.Dense(10,activation='softmax')\n",
        "    mod=tf.keras.Sequential([l1,l2])\n",
        "    mod.compile(loss='SparseCategoricalCrossentropy',optimizer='adam',metrics=['accuracy'])\n",
        "    return mod\n",
        "class CustomCallback(tf.keras.callbacks.Callback):\n",
        "    def __init__(self):\n",
        "        self.accA=[]\n",
        "        self.accB=[]\n",
        "    def on_epoch_end(self,epoch,logs=None):\n",
        "        self.accB.append(logs['accuracy'])\n",
        "        self.accA.append(logs['val_accuracy'])\n",
        "        if logs['accuracy']==1.0:\n",
        "            self.model.stop_training=1\n",
        "\n",
        "nn=model()\n",
        "            "
      ],
      "metadata": {
        "id": "GRvAwP6TpFa3"
      },
      "execution_count": null,
      "outputs": []
    },
    {
      "cell_type": "code",
      "source": [
        "nn.fit(taskA['data']/255.0,taskA['label'],epochs=10)"
      ],
      "metadata": {
        "colab": {
          "base_uri": "https://localhost:8080/"
        },
        "id": "FQHca2LSxSHT",
        "outputId": "d0f430db-53df-41f9-8702-605b836326c1"
      },
      "execution_count": null,
      "outputs": [
        {
          "output_type": "stream",
          "name": "stdout",
          "text": [
            "Epoch 1/10\n",
            "186/186 [==============================] - 0s 2ms/step - loss: 0.0971 - accuracy: 1.0000\n",
            "Epoch 2/10\n",
            "186/186 [==============================] - 0s 2ms/step - loss: 0.0573 - accuracy: 1.0000\n",
            "Epoch 3/10\n",
            "186/186 [==============================] - 0s 2ms/step - loss: 0.0396 - accuracy: 1.0000\n",
            "Epoch 4/10\n",
            "186/186 [==============================] - 0s 2ms/step - loss: 0.0288 - accuracy: 1.0000\n",
            "Epoch 5/10\n",
            "186/186 [==============================] - 0s 2ms/step - loss: 0.0217 - accuracy: 1.0000\n",
            "Epoch 6/10\n",
            "186/186 [==============================] - 0s 2ms/step - loss: 0.0167 - accuracy: 1.0000\n",
            "Epoch 7/10\n",
            "186/186 [==============================] - 0s 2ms/step - loss: 0.0131 - accuracy: 1.0000\n",
            "Epoch 8/10\n",
            "186/186 [==============================] - 0s 2ms/step - loss: 0.0106 - accuracy: 1.0000\n",
            "Epoch 9/10\n",
            "186/186 [==============================] - 0s 2ms/step - loss: 0.0087 - accuracy: 1.0000\n",
            "Epoch 10/10\n",
            "186/186 [==============================] - 0s 2ms/step - loss: 0.0073 - accuracy: 1.0000\n"
          ]
        },
        {
          "output_type": "execute_result",
          "data": {
            "text/plain": [
              "<keras.callbacks.History at 0x7f84ec873f50>"
            ]
          },
          "metadata": {},
          "execution_count": 66
        }
      ]
    },
    {
      "cell_type": "code",
      "source": [
        "theta= nn.weights\n",
        "theta_star=nn.get_weights()"
      ],
      "metadata": {
        "id": "VwWeSOzrx721"
      },
      "execution_count": null,
      "outputs": []
    },
    {
      "cell_type": "code",
      "source": [
        "lam=1\n",
        "def compute_fisher(tasks):\n",
        "    fisher=[np.zeros(v.get_shape().as_list())     for v in theta]\n",
        "    for data in tasks:\n",
        "        for i in range(len(data)//20):\n",
        "            d=tf.reshape(data[i],(1,28,28))\n",
        "            with tf.GradientTape() as g:\n",
        "                g.watch(theta)\n",
        "                probs=nn(d)\n",
        "                y=tf.math.log(probs)\n",
        "            ders=g.gradient(y,theta)\n",
        "            for v in range(len(fisher)):\n",
        "                fisher[v]+=tf.square(ders[v])\n",
        "        for v in range(len(fisher)):\n",
        "            fisher[v]/=len(data)//20\n",
        "    return fisher            \n",
        "\n",
        "fisher=compute_fisher([taskA['data']/255])\n",
        "fisher"
      ],
      "metadata": {
        "colab": {
          "base_uri": "https://localhost:8080/"
        },
        "id": "9WpeQutkyRlq",
        "outputId": "449f4d46-dcbf-4d5c-cd57-767c811bbcd7"
      },
      "execution_count": null,
      "outputs": [
        {
          "output_type": "execute_result",
          "data": {
            "text/plain": [
              "[<tf.Tensor: shape=(784, 10), dtype=float32, numpy=\n",
              " array([[0., 0., 0., ..., 0., 0., 0.],\n",
              "        [0., 0., 0., ..., 0., 0., 0.],\n",
              "        [0., 0., 0., ..., 0., 0., 0.],\n",
              "        ...,\n",
              "        [0., 0., 0., ..., 0., 0., 0.],\n",
              "        [0., 0., 0., ..., 0., 0., 0.],\n",
              "        [0., 0., 0., ..., 0., 0., 0.]], dtype=float32)>,\n",
              " <tf.Tensor: shape=(10,), dtype=float32, numpy=\n",
              " array([80.93594   ,  0.99889314,  0.99931604,  0.9993807 ,  0.99947006,\n",
              "         0.99942017,  0.99938315,  0.99892354,  0.99922293,  0.99888146],\n",
              "       dtype=float32)>]"
            ]
          },
          "metadata": {},
          "execution_count": 68
        }
      ]
    },
    {
      "cell_type": "code",
      "source": [
        "@tf.function\n",
        "def custom_loss(y_true,y_pred):\n",
        "    loss=tf.keras.losses.sparse_categorical_crossentropy(y_true,y_pred)\n",
        "    for v in range(len(theta)):\n",
        "        loss+=(lam/2)*tf.reduce_sum(tf.multiply(fisher[v],tf.square(theta[v]-theta_star[v])))\n",
        "    return loss\n",
        "nn.compile(loss=custom_loss,optimizer='adam',metrics=['accuracy'])"
      ],
      "metadata": {
        "id": "NBUfvpyG1kej"
      },
      "execution_count": null,
      "outputs": []
    },
    {
      "cell_type": "code",
      "source": [
        "nn.evaluate(taskA['data']/255.0,taskA['label'])"
      ],
      "metadata": {
        "colab": {
          "base_uri": "https://localhost:8080/"
        },
        "id": "bCYpBXhQ3Pbo",
        "outputId": "2373c343-8c1a-4e3a-e7fd-26cf0c1d1990"
      },
      "execution_count": null,
      "outputs": [
        {
          "output_type": "stream",
          "name": "stdout",
          "text": [
            "186/186 [==============================] - 0s 1ms/step - loss: 3.4667e-04 - accuracy: 1.0000\n"
          ]
        },
        {
          "output_type": "execute_result",
          "data": {
            "text/plain": [
              "[0.00034667245927266777, 1.0]"
            ]
          },
          "metadata": {},
          "execution_count": 70
        }
      ]
    },
    {
      "cell_type": "code",
      "source": [
        "cb=CustomCallback()\n",
        "accA=[]\n",
        "accB=[]\n",
        "accA.append(nn.evaluate(taskA['data']/255.0,taskA['label'])[1])\n",
        "accB.append(nn.evaluate(taskB['data']/255.0,taskB['label'])[1])\n",
        "nn.fit(taskB['data']/255.0,taskB['label'],epochs=10,validation_data=(taskA['data']/255.0,taskA['label']),callbacks=[cb])\n",
        "accA+=cb.accA\n",
        "accB+=cb.accB\n",
        "plt.plot(accA)\n",
        "plt.plot(accB)\n",
        "plt.show()"
      ],
      "metadata": {
        "colab": {
          "base_uri": "https://localhost:8080/",
          "height": 667
        },
        "id": "3kr8oKXi3bPc",
        "outputId": "89ecfca8-89bd-4b68-ad40-b0eb1faf680b"
      },
      "execution_count": null,
      "outputs": [
        {
          "output_type": "stream",
          "name": "stdout",
          "text": [
            "186/186 [==============================] - 0s 1ms/step - loss: 3.4667e-04 - accuracy: 1.0000\n",
            "211/211 [==============================] - 0s 1ms/step - loss: 2.0851 - accuracy: 0.1023\n",
            "Epoch 1/10\n",
            "211/211 [==============================] - 1s 3ms/step - loss: 0.4329 - accuracy: 0.8917 - val_loss: 0.1113 - val_accuracy: 0.9998\n",
            "Epoch 2/10\n",
            "211/211 [==============================] - 1s 3ms/step - loss: 0.1698 - accuracy: 0.9837 - val_loss: 0.0769 - val_accuracy: 0.9998\n",
            "Epoch 3/10\n",
            "211/211 [==============================] - 1s 3ms/step - loss: 0.1317 - accuracy: 0.9864 - val_loss: 0.0657 - val_accuracy: 0.9998\n",
            "Epoch 4/10\n",
            "211/211 [==============================] - 1s 3ms/step - loss: 0.1113 - accuracy: 0.9874 - val_loss: 0.0554 - val_accuracy: 0.9998\n",
            "Epoch 5/10\n",
            "211/211 [==============================] - 1s 3ms/step - loss: 0.0985 - accuracy: 0.9877 - val_loss: 0.0497 - val_accuracy: 0.9998\n",
            "Epoch 6/10\n",
            "211/211 [==============================] - 1s 3ms/step - loss: 0.0897 - accuracy: 0.9892 - val_loss: 0.0453 - val_accuracy: 0.9998\n",
            "Epoch 7/10\n",
            "211/211 [==============================] - 1s 3ms/step - loss: 0.0835 - accuracy: 0.9896 - val_loss: 0.0420 - val_accuracy: 0.9998\n",
            "Epoch 8/10\n",
            "211/211 [==============================] - 1s 3ms/step - loss: 0.0787 - accuracy: 0.9898 - val_loss: 0.0413 - val_accuracy: 0.9998\n",
            "Epoch 9/10\n",
            "211/211 [==============================] - 1s 3ms/step - loss: 0.0748 - accuracy: 0.9902 - val_loss: 0.0390 - val_accuracy: 0.9998\n",
            "Epoch 10/10\n",
            "211/211 [==============================] - 1s 3ms/step - loss: 0.0718 - accuracy: 0.9904 - val_loss: 0.0357 - val_accuracy: 0.9998\n"
          ]
        },
        {
          "output_type": "display_data",
          "data": {
            "image/png": "[encoded data removed]",
            "text/plain": [
              "<Figure size 432x288 with 1 Axes>"
            ]
          },
          "metadata": {
            "needs_background": "light"
          }
        }
      ]
    },
    {
      "cell_type": "code",
      "source": [
        "fisher=compute_fisher([taskB['data']/255,taskA['data']/255])\n",
        "fisher"
      ],
      "metadata": {
        "colab": {
          "base_uri": "https://localhost:8080/"
        },
        "id": "22ZQZt196R0D",
        "outputId": "c8ccf4c7-bdd2-432f-a545-1604b54b2ad9"
      },
      "execution_count": null,
      "outputs": [
        {
          "output_type": "execute_result",
          "data": {
            "text/plain": [
              "[<tf.Tensor: shape=(784, 10), dtype=float32, numpy=\n",
              " array([[0., 0., 0., ..., 0., 0., 0.],\n",
              "        [0., 0., 0., ..., 0., 0., 0.],\n",
              "        [0., 0., 0., ..., 0., 0., 0.],\n",
              "        ...,\n",
              "        [0., 0., 0., ..., 0., 0., 0.],\n",
              "        [0., 0., 0., ..., 0., 0., 0.],\n",
              "        [0., 0., 0., ..., 0., 0., 0.]], dtype=float32)>,\n",
              " <tf.Tensor: shape=(10,), dtype=float32, numpy=\n",
              " array([80.91954  ,  1.2626544,  1.0026857,  1.0027508,  1.0028404,\n",
              "         1.0027912,  1.0027524,  1.002291 ,  1.002592 ,  1.0022497],\n",
              "       dtype=float32)>]"
            ]
          },
          "metadata": {},
          "execution_count": 73
        }
      ]
    },
    {
      "cell_type": "code",
      "source": [
        "@tf.function\n",
        "def custom_loss(y_true,y_pred):\n",
        "    loss=tf.keras.losses.sparse_categorical_crossentropy(y_true,y_pred)\n",
        "    for v in range(len(theta)):\n",
        "        loss+=(lam/2)*tf.reduce_sum(tf.multiply(fisher[v],tf.square(theta[v]-theta_star[v])))\n",
        "    return loss\n",
        "nn.compile(loss=custom_loss,optimizer='adam',metrics=['accuracy'])"
      ],
      "metadata": {
        "id": "PvDbZOEG_9An"
      },
      "execution_count": null,
      "outputs": []
    },
    {
      "cell_type": "code",
      "source": [
        "nn.evaluate(taskA['data']/255.0,taskA['label'])\n",
        "nn.evaluate(taskB['data']/255.0,taskB['label'])"
      ],
      "metadata": {
        "colab": {
          "base_uri": "https://localhost:8080/"
        },
        "id": "KfiUUJU3AgQT",
        "outputId": "6fa0eac9-b575-4e66-bdf5-4b298dd63080"
      },
      "execution_count": null,
      "outputs": [
        {
          "output_type": "stream",
          "name": "stdout",
          "text": [
            "186/186 [==============================] - 0s 2ms/step - loss: 0.3114 - accuracy: 0.9998\n",
            "211/211 [==============================] - 0s 1ms/step - loss: 0.3460 - accuracy: 0.9901\n"
          ]
        },
        {
          "output_type": "execute_result",
          "data": {
            "text/plain": [
              "[0.346031129360199, 0.9900622963905334]"
            ]
          },
          "metadata": {},
          "execution_count": 78
        }
      ]
    },
    {
      "cell_type": "code",
      "source": [
        "cb=CustomCallback()\n",
        "accA=[]\n",
        "accB=[]\n",
        "accC=[]\n",
        "accA.append(nn.evaluate(taskA['data']/255.0,taskA['label'])[1])\n",
        "accB.append(nn.evaluate(taskB['data']/255.0,taskB['label'])[1])\n",
        "accC.append(nn.evaluate(taskC['data']/255.0,taskC['label'])[1])\n",
        "nn.fit(taskC['data']/255.0,taskC['label'],epochs=10,validation_data=(taskB['data']/255.0,taskB['label']),callbacks=[cb])\n",
        "accA+=cb.accA\n",
        "accB+=cb.accB\n",
        "accC+=cb.accC\n",
        "plt.plot(accA)\n",
        "plt.plot(accB)\n",
        "plt.plot(accC)\n",
        "plt.show()"
      ],
      "metadata": {
        "colab": {
          "base_uri": "https://localhost:8080/",
          "height": 654
        },
        "id": "EfaIyQZxAmEr",
        "outputId": "9b843ee5-eba6-4fb4-ae85-9f3aaa9eacc9"
      },
      "execution_count": null,
      "outputs": [
        {
          "output_type": "stream",
          "name": "stdout",
          "text": [
            "186/186 [==============================] - 0s 1ms/step - loss: 0.3114 - accuracy: 0.9998\n",
            "211/211 [==============================] - 0s 1ms/step - loss: 0.3460 - accuracy: 0.9901\n",
            "187/187 [==============================] - 0s 1ms/step - loss: 13.5184 - accuracy: 0.0000e+00\n",
            "Epoch 1/10\n",
            "187/187 [==============================] - 1s 3ms/step - loss: 4.0824 - accuracy: 0.4762 - val_loss: 1.5183 - val_accuracy: 0.7913\n",
            "Epoch 2/10\n",
            "187/187 [==============================] - 1s 3ms/step - loss: 0.9335 - accuracy: 0.9780 - val_loss: 1.8305 - val_accuracy: 0.5122\n",
            "Epoch 3/10\n",
            "187/187 [==============================] - 1s 3ms/step - loss: 0.7410 - accuracy: 0.9807 - val_loss: 2.3640 - val_accuracy: 0.2378\n",
            "Epoch 4/10\n",
            "187/187 [==============================] - 1s 3ms/step - loss: 0.6407 - accuracy: 0.9773 - val_loss: 3.0454 - val_accuracy: 0.0767\n",
            "Epoch 5/10\n",
            "187/187 [==============================] - 1s 3ms/step - loss: 0.5814 - accuracy: 0.9757 - val_loss: 3.6086 - val_accuracy: 0.0251\n",
            "Epoch 6/10\n",
            "187/187 [==============================] - 1s 3ms/step - loss: 0.5436 - accuracy: 0.9718 - val_loss: 4.1547 - val_accuracy: 0.0059\n",
            "Epoch 7/10\n",
            "187/187 [==============================] - 1s 3ms/step - loss: 0.5183 - accuracy: 0.9695 - val_loss: 4.6291 - val_accuracy: 0.0021\n",
            "Epoch 8/10\n",
            "187/187 [==============================] - 1s 3ms/step - loss: 0.4999 - accuracy: 0.9688 - val_loss: 5.0403 - val_accuracy: 7.4162e-04\n",
            "Epoch 9/10\n",
            "187/187 [==============================] - 1s 3ms/step - loss: 0.4859 - accuracy: 0.9676 - val_loss: 5.3208 - val_accuracy: 2.9665e-04\n",
            "Epoch 10/10\n",
            "187/187 [==============================] - 1s 3ms/step - loss: 0.4748 - accuracy: 0.9666 - val_loss: 5.6394 - val_accuracy: 0.0000e+00\n"
          ]
        },
        {
          "output_type": "error",
          "ename": "AttributeError",
          "evalue": "ignored",
          "traceback": [
            "\u001b[0;31m---------------------------------------------------------------------------\u001b[0m",
            "\u001b[0;31mAttributeError\u001b[0m                            Traceback (most recent call last)",
            "\u001b[0;32m<ipython-input-81-2ce5fdfb01d0>\u001b[0m in \u001b[0;36m<module>\u001b[0;34m()\u001b[0m\n\u001b[1;32m      9\u001b[0m \u001b[0maccA\u001b[0m\u001b[0;34m+=\u001b[0m\u001b[0mcb\u001b[0m\u001b[0;34m.\u001b[0m\u001b[0maccA\u001b[0m\u001b[0;34m\u001b[0m\u001b[0;34m\u001b[0m\u001b[0m\n\u001b[1;32m     10\u001b[0m \u001b[0maccB\u001b[0m\u001b[0;34m+=\u001b[0m\u001b[0mcb\u001b[0m\u001b[0;34m.\u001b[0m\u001b[0maccB\u001b[0m\u001b[0;34m\u001b[0m\u001b[0;34m\u001b[0m\u001b[0m\n\u001b[0;32m---> 11\u001b[0;31m \u001b[0maccC\u001b[0m\u001b[0;34m+=\u001b[0m\u001b[0mcb\u001b[0m\u001b[0;34m.\u001b[0m\u001b[0maccC\u001b[0m\u001b[0;34m\u001b[0m\u001b[0;34m\u001b[0m\u001b[0m\n\u001b[0m\u001b[1;32m     12\u001b[0m \u001b[0mplt\u001b[0m\u001b[0;34m.\u001b[0m\u001b[0mplot\u001b[0m\u001b[0;34m(\u001b[0m\u001b[0maccA\u001b[0m\u001b[0;34m)\u001b[0m\u001b[0;34m\u001b[0m\u001b[0;34m\u001b[0m\u001b[0m\n\u001b[1;32m     13\u001b[0m \u001b[0mplt\u001b[0m\u001b[0;34m.\u001b[0m\u001b[0mplot\u001b[0m\u001b[0;34m(\u001b[0m\u001b[0maccB\u001b[0m\u001b[0;34m)\u001b[0m\u001b[0;34m\u001b[0m\u001b[0;34m\u001b[0m\u001b[0m\n",
            "\u001b[0;31mAttributeError\u001b[0m: 'CustomCallback' object has no attribute 'accC'"
          ]
        }
      ]
    },
    {
      "cell_type": "code",
      "source": [
        ""
      ],
      "metadata": {
        "id": "D1IZqNRABT-E"
      },
      "execution_count": null,
      "outputs": []
    }
  ]
}